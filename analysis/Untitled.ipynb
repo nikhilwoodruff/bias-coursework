{
 "cells": [
  {
   "cell_type": "code",
   "execution_count": 1,
   "id": "f5dc53cc-7b40-4e3f-b96f-acd215adc62e",
   "metadata": {},
   "outputs": [],
   "source": [
    "import plotly.graph_objects as go\n",
    "import pandas as pd\n",
    "\n",
    "hybrid = pd.read_csv(\"~/Downloads/run-scalars_hybrid-20210419-124743_validation-tag-epoch_loss.csv\")\n",
    "relu = pd.read_csv(\"~/Downloads/run-scalars_relu-20210419-124717_validation-tag-epoch_loss.csv\")\n",
    "linear = pd.read_csv(\"~/Downloads/run-scalars_linear-20210419-124302_validation-tag-epoch_loss.csv\")"
   ]
  },
  {
   "cell_type": "code",
   "execution_count": 2,
   "id": "5395420a-15dc-4f69-a001-7e2ac894db7a",
   "metadata": {},
   "outputs": [],
   "source": [
    "fig = go.Figure()\n",
    "fig.add_trace(go.Scatter(mode=\"lines\", x=linear.Step, y=linear.Value.clip(0,  1e+7).rolling(3).mean(), name=\"Linear\"))\n",
    "fig.add_trace(go.Scatter(mode=\"lines\", x=relu.Step, y=relu.Value.clip(0,  1e+7).rolling(3).mean(), name=\"ReLU\"))\n",
    "fig.add_trace(go.Scatter(mode=\"lines\", x=hybrid.Step, y=hybrid.Value.clip(0,  1e+7).rolling(3).mean(), name=\"Hybrid\"))\n",
    "fig.update_layout(title=\"Validation losses by model\", xaxis_title=\"Training epoch\", yaxis_title=\"Mean squared Error\", width=800, height=800, template=\"simple_white\")\n",
    "fig.write_image(\"losses.eps\")"
   ]
  }
 ],
 "metadata": {
  "kernelspec": {
   "display_name": "Python 3",
   "language": "python",
   "name": "python3"
  },
  "language_info": {
   "codemirror_mode": {
    "name": "ipython",
    "version": 3
   },
   "file_extension": ".py",
   "mimetype": "text/x-python",
   "name": "python",
   "nbconvert_exporter": "python",
   "pygments_lexer": "ipython3",
   "version": "3.7.10"
  }
 },
 "nbformat": 4,
 "nbformat_minor": 5
}
